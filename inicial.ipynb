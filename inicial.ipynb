{
 "cells": [
  {
   "cell_type": "markdown",
   "metadata": {},
   "source": [
    "# Python Insights - Analisando Dados com Python\n",
    "\n",
    "### Case - Cancelamento de Clientes\n",
    "\n",
    "Você foi contratado por uma empresa com mais de 800 mil clientes para um projeto de Dados. Recentemente a empresa percebeu que da sua base total de clientes, a maioria são clientes inativos, ou seja, que já cancelaram o serviço.\n",
    "\n",
    "Precisando melhorar seus resultados ela quer conseguir entender os principais motivos desses cancelamentos e quais as ações mais eficientes para reduzir esse número.\n",
    "\n",
    "Base de dados e arquivos: https://drive.google.com/drive/folders/1uDesZePdkhiraJmiyeZ-w5tfc8XsNYFZ?usp=drive_link"
   ]
  },
  {
   "cell_type": "code",
   "execution_count": null,
   "metadata": {},
   "outputs": [],
   "source": [
    "#Passo a passo\n",
    "#Passo 1: Importar a base de dados de clientes\n",
    "import pandas as pd\n",
    "tabela = pd.read_csv (\"cancelamentos_sample.csv\")\n",
    "#Passo 2: Visualizar a base de dados\n",
    "#colunas inúteis - Informações que não te ajudam, te atrapalham\n",
    "tabela = tabela.drop(columns = \"CustomerID\")\n",
    "display(tabela)\n"
   ]
  },
  {
   "cell_type": "code",
   "execution_count": null,
   "metadata": {},
   "outputs": [],
   "source": [
    "#Passo 3: Corrigir os erros da base de dados\n",
    "#valores vazios - erros de prenchimentos\n",
    "display(tabela.info())\n",
    "#jogando valores vazios foras\n",
    "tabela = tabela.dropna()\n"
   ]
  },
  {
   "cell_type": "code",
   "execution_count": null,
   "metadata": {},
   "outputs": [],
   "source": [
    "#Passo 4: Analise dos cancelamento\n",
    "display(tabela[\"cancelou\"].value_counts())\n",
    "\n",
    "display(tabela[\"cancelou\"].value_counts(normalize = True).map(\"{:.1%}\".format))"
   ]
  },
  {
   "cell_type": "code",
   "execution_count": null,
   "metadata": {},
   "outputs": [],
   "source": [
    "#Passo 5: Análise da causa dos cancelamentos\n",
    "import plotly.express as px\n",
    "\n",
    "#criar grafico\n",
    "#para cada coluna da tabela\n",
    "for coluna  in tabela.columns:\n",
    "    grafico = px.histogram(tabela, x=coluna, color=\"cancelou\")\n",
    "    #exibe grafico\n",
    "    grafico.show()"
   ]
  },
  {
   "cell_type": "code",
   "execution_count": null,
   "metadata": {},
   "outputs": [],
   "source": [
    "#analise das causas de cancelamentos\n",
    "# Se um cliente ligar mais de 4 vezes para o call center, ele cancela\n",
    "   #criar um processo que se o cliente ligou 3 vezes, a gente faz de td pra resolver\n",
    "\n",
    "# Se um cliente atrasar o pagamento mais de 20 dias, ele cancela\n",
    "  #criar um processo para não deixar o cliente atrasar o pagamento mais de 20 dias\n",
    "\n",
    "#todos os cliente do contrato mensal cancelam\n",
    " #oferecer desconto nos planos anuais e trimestrais\n",
    "\n",
    "tabela = tabela[tabela[\"duracao_contrato\"]!=\"Monthly\"] #sem duração  do contrato mensal\n",
    "tabela = tabela[tabela[\"ligacoes_callcenter\"]<=4] #sem ligação do call center acima de 4 vezes\n",
    "tabela = tabela[tabela[\"dias_atraso\"]<=20] #sem atraso de pagamento maior do que 20 vezes\n",
    "display(tabela[\"cancelou\"].value_counts(normalize = True).map(\"{:.1%}\".format))"
   ]
  }
 ],
 "metadata": {
  "kernelspec": {
   "display_name": "base",
   "language": "python",
   "name": "python3"
  },
  "language_info": {
   "codemirror_mode": {
    "name": "ipython",
    "version": 3
   },
   "file_extension": ".py",
   "mimetype": "text/x-python",
   "name": "python",
   "nbconvert_exporter": "python",
   "pygments_lexer": "ipython3",
   "version": "3.12.2"
  },
  "orig_nbformat": 4
 },
 "nbformat": 4,
 "nbformat_minor": 2
}
